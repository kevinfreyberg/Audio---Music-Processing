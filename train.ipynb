{
 "cells": [
  {
   "cell_type": "code",
   "execution_count": 2,
   "metadata": {},
   "outputs": [
    {
     "ename": "ModuleNotFoundError",
     "evalue": "No module named 'torch'",
     "output_type": "error",
     "traceback": [
      "\u001b[1;31m---------------------------------------------------------------------------\u001b[0m",
      "\u001b[1;31mModuleNotFoundError\u001b[0m                       Traceback (most recent call last)",
      "\u001b[1;32mc:\\Users\\Kevin Freyberg\\Desktop\\Audio-Processing\\mnist.ipynb Cell 1'\u001b[0m in \u001b[0;36m<cell line: 1>\u001b[1;34m()\u001b[0m\n\u001b[1;32m----> <a href='vscode-notebook-cell:/c%3A/Users/Kevin%20Freyberg/Desktop/Audio-Processing/mnist.ipynb#ch0000000?line=0'>1</a>\u001b[0m \u001b[39mimport\u001b[39;00m \u001b[39mtorch\u001b[39;00m\n\u001b[0;32m      <a href='vscode-notebook-cell:/c%3A/Users/Kevin%20Freyberg/Desktop/Audio-Processing/mnist.ipynb#ch0000000?line=1'>2</a>\u001b[0m \u001b[39mfrom\u001b[39;00m \u001b[39mtorch\u001b[39;00m \u001b[39mimport\u001b[39;00m nn\n\u001b[0;32m      <a href='vscode-notebook-cell:/c%3A/Users/Kevin%20Freyberg/Desktop/Audio-Processing/mnist.ipynb#ch0000000?line=2'>3</a>\u001b[0m \u001b[39mfrom\u001b[39;00m \u001b[39mtorch\u001b[39;00m\u001b[39m.\u001b[39;00m\u001b[39mutils\u001b[39;00m\u001b[39m.\u001b[39;00m\u001b[39mdata\u001b[39;00m \u001b[39mimport\u001b[39;00m DataLoader\n",
      "\u001b[1;31mModuleNotFoundError\u001b[0m: No module named 'torch'"
     ]
    }
   ],
   "source": [
    "import torch\n",
    "from torch import nn\n",
    "from torch.utils.data import DataLoader\n",
    "from torchvision import datasets\n",
    "from torchvision.transforms import ToTensor\n",
    "\n",
    "# 1. download dataset\n",
    "# 2. create dataloader\n",
    "# 3. build model"
   ]
  },
  {
   "cell_type": "code",
   "execution_count": null,
   "metadata": {},
   "outputs": [],
   "source": [
    "# ToTensor() reshapes so each value is normalized between [0,1]\n",
    "def download_mnist_datasets():\n",
    "    # MNIST is a concrete implementation\n",
    "    train_data = datasets.MNIST(\n",
    "        root=\"data\", # we are telling PyTorch where to store the dataset\n",
    "        download=True,\n",
    "        train=True,\n",
    "        transform=ToTensor() # allows us to apply a transform directly to data\n",
    "    )\n",
    "\n",
    "    validation_data = datasets.MNIST(\n",
    "        root=\"data\", \n",
    "        download=True,\n",
    "        train=False,\n",
    "        transform=ToTensor()\n",
    "    )\n",
    "\n",
    "    return train_data, validation_data"
   ]
  },
  {
   "cell_type": "code",
   "execution_count": null,
   "metadata": {},
   "outputs": [],
   "source": [
    "class FeedForwardNet(nn.Module):\n",
    "    def __init__(self):\n",
    "        super().__init__()\n",
    "        # define layers\n",
    "        self.flatten = nn.Flatten() \n",
    "        # Sequential allows us to pack together multiple layers\n",
    "        self.dense_layers = nn.Sequential(\n",
    "            nn.Linear(28*28, 256),\n",
    "            nn.ReLU(),\n",
    "            nn.Linear(256, 10), # 10 is the number of classes in MNIST\n",
    "        )\n",
    "        self.softmax = nn.Softmax(dim=1) # Basic transformation/normalization\n",
    "\n",
    "    def forward(self, input_data):\n",
    "        # Indicates PyTorch how to manipulate the dating/sequence\n",
    "        flattened_data = self.flatten(input_data)\n",
    "        logits = self.dense_layers(flattened_data)\n",
    "        predictions = self.softmax(logits)\n",
    "        return predictions"
   ]
  },
  {
   "cell_type": "code",
   "execution_count": null,
   "metadata": {},
   "outputs": [],
   "source": [
    "def train_one_epoch(model, data_loader, loss_fn, optimizer, device):\n",
    "    for inputs, targets in data_loader:\n",
    "        inputs, targets = inputs.to(device), targets.to(device)\n",
    "\n",
    "        # calculate loss\n",
    "        predictions = model(inputs) # just pass inputs into model\n",
    "        loss = loss_fn(predictions, targets)\n",
    "\n",
    "        # backpropagate loss and update weights\n",
    "        # at each iteration, the optimizer will calculate gradients \n",
    "\n",
    "        optimizer.zero_grad() # resets gradients\n",
    "        loss.backward() # applies backpropagation\n",
    "        optimizer.step() # updates weights\n",
    "\n",
    "    print(f\"Loss: {loss.item()}\")\n",
    "\n",
    "def train(model, data_loader, loss_fn, optimizer, device, epochs):\n",
    "    for i in range(epochs):\n",
    "        print(f\"Epoch: {i+1}\")\n",
    "        train_one_epoch(model, data_loader, loss_fn, optimizer, device)\n",
    "        print(\"-------------------\")\n",
    "    print(\"Training is done!\")\n"
   ]
  },
  {
   "cell_type": "code",
   "execution_count": null,
   "metadata": {},
   "outputs": [
    {
     "name": "stdout",
     "output_type": "stream",
     "text": [
      "MNIST dataset downloaded!\n",
      "Using device:  cpu\n",
      "Epoch: 1\n",
      "Intel MKL FATAL ERROR: This system does not meet the minimum requirements for use of the Intel(R) Math Kernel Library.\n",
      "The processor must support the Intel(R) Supplemental Streaming SIMD Extensions 3 (Intel(R) SSSE3) instructions.\n",
      "The processor must support the Intel(R) Streaming SIMD Extensions 4.2 (Intel(R) SSE4.2) instructions.\n",
      "The processor must support the Intel(R) Advanced Vector Extensions (Intel(R) AVX) instructions.\n"
     ]
    },
    {
     "ename": "",
     "evalue": "",
     "output_type": "error",
     "traceback": [
      "The Kernel crashed while executing code in the the current cell or a previous cell. Please review the code in the cell(s) to identify a possible cause of the failure. Click <a href='https://aka.ms/vscodeJupyterKernelCrash'>here</a> for more info. View Jupyter <a href='command:jupyter.viewOutput'>log</a> for further details."
     ]
    },
    {
     "ename": "",
     "evalue": "",
     "output_type": "error",
     "traceback": [
      "\u001b[1;31mCanceled future for execute_request message before replies were done"
     ]
    }
   ],
   "source": [
    "if __name__ == \"__main__\":\n",
    "    # constants\n",
    "    BATCH_SIZE = 128\n",
    "    EPOCHS = 10\n",
    "    LEARNING_RATE = .001\n",
    "\n",
    "    # download MNIST dataset\n",
    "    train_data, _ = download_mnist_datasets()\n",
    "    print(\"MNIST dataset downloaded!\")\n",
    "\n",
    "    # create a dataloader for the train data\n",
    "    \n",
    "    train_data_loader = DataLoader(train_data, batch_size=BATCH_SIZE)\n",
    "\n",
    "    # build the model\n",
    "    # device can be CUDA or CPU\n",
    "    if torch.cuda.is_available():\n",
    "        device = \"cuda\"\n",
    "    else:\n",
    "        device = \"cpu\"\n",
    "\n",
    "    print(\"Using device: \", device)\n",
    "    feed_forward_net = FeedForwardNet().to(device=device)\n",
    "\n",
    "    # instantiate loss fn + optimizer\n",
    "    loss_fn = nn.CrossEntropyLoss()\n",
    "    optimizer = torch.optim.Adam(feed_forward_net.parameters(), lr=LEARNING_RATE)\n",
    "\n",
    "    # train the model\n",
    "    train(feed_forward_net, train_data_loader, loss_fn, optimizer, device, EPOCHS)\n",
    "\n",
    "    # store the model\n",
    "    torch.save(feed_forward_net.state_dict(), \"feedforwardnet.pth\")\n",
    "    print(\"Model trained and stored at feedforwardnet.pth\")\n",
    "\n"
   ]
  }
 ],
 "metadata": {
  "kernelspec": {
   "display_name": "Python 3.7.12 ('ml')",
   "language": "python",
   "name": "python3"
  },
  "language_info": {
   "codemirror_mode": {
    "name": "ipython",
    "version": 3
   },
   "file_extension": ".py",
   "mimetype": "text/x-python",
   "name": "python",
   "nbconvert_exporter": "python",
   "pygments_lexer": "ipython3",
   "version": "3.9.12"
  },
  "orig_nbformat": 4,
  "vscode": {
   "interpreter": {
    "hash": "2f434a1d43e18e8582397732632fdf4a3ba76b6c49d0614f7340a3d3af436935"
   }
  }
 },
 "nbformat": 4,
 "nbformat_minor": 2
}
